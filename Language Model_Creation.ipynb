{
 "cells": [
  {
   "cell_type": "code",
   "execution_count": 2,
   "metadata": {},
   "outputs": [],
   "source": [
    "import os\n",
    "import string\n",
    "import pandas as pd\n",
    "import numpy as np\n",
    "from nltk import word_tokenize\n",
    "from nltk.stem.snowball import SnowballStemmer\n",
    "from nltk.corpus import stopwords"
   ]
  },
  {
   "cell_type": "code",
   "execution_count": 3,
   "metadata": {},
   "outputs": [],
   "source": [
    "def process_text (documents, stop_words):\n",
    "    \"\"\"\n",
    "    Takes documents and a list of stop words and performs the following functions:\n",
    "    - Removes punctuation\n",
    "    - Stems the words using the Snoball Stemmer\n",
    "    - Removes stopwords\n",
    "    Returns a list of tokenized words, as well as the processed text, for each document.\n",
    "    \"\"\"\n",
    "    processed_tokens = []\n",
    "    processed_text = []\n",
    "    for i in np.arange(0,len(documents),1):\n",
    "        text = documents[i].translate(str.maketrans(\" \", \" \", string.punctuation+'0123456789'))\n",
    "        #print(text)\n",
    "        tokens = [SnowballStemmer(\"english\").stem(w) for w in word_tokenize(text)]\n",
    "        #print(tokens)\n",
    "        tokens = [w for w in tokens if not w in stop_words]\n",
    "        #print(filtered_string)\n",
    "        processed_tokens.append(tokens)\n",
    "        #create compiled text\n",
    "        text = ' '.join([w for w in tokens])\n",
    "        processed_text.append(text)\n",
    "    \n",
    "    #processed_text = ' '.join([w for w in processed_text])\n",
    "    return processed_text, processed_tokens"
   ]
  },
  {
   "cell_type": "code",
   "execution_count": 4,
   "metadata": {},
   "outputs": [],
   "source": [
    "df = pd.read_csv('abstract_table.csv')\n",
    "\n",
    "#create titles document \n",
    "titles = df['ArticleTitle']\n",
    "#create abstract document \n",
    "text = df['AbstractText'].dropna()\n",
    "#combine these two\n",
    "####May want to do something about weighting but only if there's time\n",
    "total_text = (df['ArticleTitle']+df['AbstractText'].fillna('')).tolist()"
   ]
  },
  {
   "cell_type": "code",
   "execution_count": 5,
   "metadata": {},
   "outputs": [],
   "source": [
    "#open the database, get the table\n",
    "stop_words = set(stopwords.words('english'))\n",
    "processed_text, processed_tokens = process_text(total_text, stop_words)"
   ]
  },
  {
   "cell_type": "code",
   "execution_count": 6,
   "metadata": {},
   "outputs": [],
   "source": [
    "from sklearn.preprocessing import normalize\n",
    "from sklearn.feature_extraction.text import CountVectorizer\n",
    "\n",
    "tf_vectorizer = CountVectorizer(min_df = 4)\n",
    "tf = tf_vectorizer.fit_transform(processed_text)"
   ]
  },
  {
   "cell_type": "code",
   "execution_count": 7,
   "metadata": {},
   "outputs": [],
   "source": [
    "lm_dict = {}\n",
    "lm_dict['PMID'] = df['PMID']\n",
    "lm_dict['pdf'] = normalize(tf, axis=1, norm='l1')\n",
    "lm_dict['terms'] = tf_vectorizer.get_feature_names()"
   ]
  },
  {
   "cell_type": "code",
   "execution_count": 8,
   "metadata": {},
   "outputs": [],
   "source": [
    "import pickle\n",
    "\n",
    "with open('language_model.pickle', 'wb') as handle:\n",
    "    pickle.dump(lm_dict, handle)"
   ]
  },
  {
   "cell_type": "code",
   "execution_count": null,
   "metadata": {},
   "outputs": [],
   "source": []
  },
  {
   "cell_type": "code",
   "execution_count": null,
   "metadata": {},
   "outputs": [],
   "source": []
  }
 ],
 "metadata": {
  "kernelspec": {
   "display_name": "Python 3",
   "language": "python",
   "name": "python3"
  },
  "language_info": {
   "codemirror_mode": {
    "name": "ipython",
    "version": 3
   },
   "file_extension": ".py",
   "mimetype": "text/x-python",
   "name": "python",
   "nbconvert_exporter": "python",
   "pygments_lexer": "ipython3",
   "version": "3.6.4"
  }
 },
 "nbformat": 4,
 "nbformat_minor": 2
}
