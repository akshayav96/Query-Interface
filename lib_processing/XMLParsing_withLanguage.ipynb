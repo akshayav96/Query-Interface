{
 "cells": [
  {
   "cell_type": "code",
   "execution_count": null,
   "metadata": {},
   "outputs": [],
   "source": [
    "import xml.etree.ElementTree as ET\n",
    "import pandas as pd\n",
    "import numpy as np\n",
    "import os"
   ]
  },
  {
   "cell_type": "code",
   "execution_count": null,
   "metadata": {},
   "outputs": [],
   "source": [
    "def xml_findvalue (instance, name):\n",
    "    if instance.find(\".//%s\" % name) == None:\n",
    "        value = None\n",
    "    else:\n",
    "        value = instance.find(\".//%s\" % name).text\n",
    "    return value\n",
    "\n",
    "abstract_values = ['PMID', 'ISSN', 'Volume', 'Issue', 'Year', 'Month', 'Title', 'ArticleTitle', 'AbstractText', 'Affiliation','PublicationType']\n",
    "\n",
    "author_values = ['LastName', 'ForeName', 'Initials']\n",
    "author_values_PMID = ['PMID','LastName', 'ForeName', 'Initials']\n",
    "\n",
    "\n",
    "mesh_values = ['DescriptorName', 'QualifierName']\n",
    "mesh_values_PMID = ['PMID', 'MajorTopicYN', 'DescriptorName', 'QualifierName']"
   ]
  },
  {
   "cell_type": "code",
   "execution_count": null,
   "metadata": {},
   "outputs": [],
   "source": [
    "roots = []\n",
    "directory = '/Users/jenniferpolson/Documents/School/PhD/Academic/2018-S/BE 224B/Midterm Project/XML Parsing'\n",
    "for filename in os.listdir(directory):\n",
    "    if filename.endswith('.xml'):\n",
    "        tree = ET.parse(filename)\n",
    "        root = tree.getroot()\n",
    "        roots.append(root)"
   ]
  },
  {
   "cell_type": "code",
   "execution_count": null,
   "metadata": {},
   "outputs": [],
   "source": [
    "df_abstract = []\n",
    "df_authors = []\n",
    "df_mesh = []"
   ]
  },
  {
   "cell_type": "code",
   "execution_count": null,
   "metadata": {
    "scrolled": true
   },
   "outputs": [],
   "source": [
    "for r in roots:\n",
    "    for k in np.arange(0,len(r),1):\n",
    "    #for k in np.arange(0,10,1):\n",
    "        #look at the article in question\n",
    "        article = r.getchildren()[k]\n",
    "        #generate the abstract text entry\n",
    "        language = xml_findvalue (article, 'Language')\n",
    "        if language == 'eng':\n",
    "            entry = []\n",
    "            for i in abstract_values:\n",
    "                value = xml_findvalue (article, i)\n",
    "                entry.append(value)\n",
    "            #df_abstract = df_abstract.append(pd.Series(entry, index=abstract_values) ,ignore_index=True)\n",
    "            df_abstract.append(entry)\n",
    "\n",
    "            #generate ALL of the authors\n",
    "            authors = article.findall(\".//%s\" % 'Author')\n",
    "            for f in np.arange(0,len(authors),1):\n",
    "                name_entry = []\n",
    "                name_entry.append(article.find('.//%s' % 'PMID').text)\n",
    "                for i in author_values:\n",
    "                    value = xml_findvalue (authors[f], i)\n",
    "                    name_entry.append(value)\n",
    "                #df_authors = df_authors.append(pd.Series(name_entry, index=author_values_PMID) ,ignore_index=True)\n",
    "                df_authors.append(name_entry)\n",
    "\n",
    "            #generate ALL of the MeSH terms\n",
    "            mesh_terms = article.findall(\".//%s\" % 'MeshHeading')\n",
    "            for f in np.arange(0,len(mesh_terms),1):\n",
    "                name_entry = []\n",
    "                name_entry.append(article.find('.//%s' % 'PMID').text)\n",
    "                name_entry.append(article.find('.//%s' % 'DescriptorName').attrib['MajorTopicYN'])\n",
    "                for i in mesh_values:\n",
    "                    value = xml_findvalue (mesh_terms[f], i)\n",
    "                    name_entry.append(value)\n",
    "                #df_mesh = df_mesh.append(pd.Series(name_entry, index=mesh_values_PMID) ,ignore_index=True)\n",
    "                df_mesh.append(name_entry)\n",
    "        else:\n",
    "            language = language"
   ]
  },
  {
   "cell_type": "code",
   "execution_count": null,
   "metadata": {},
   "outputs": [],
   "source": [
    "df_abstract = pd.DataFrame(df_abstract, columns = abstract_values)\n",
    "df_authors = pd.DataFrame(df_authors, columns = author_values_PMID)\n",
    "df_mesh = pd.DataFrame(df_mesh, columns = mesh_values_PMID)"
   ]
  },
  {
   "cell_type": "code",
   "execution_count": null,
   "metadata": {},
   "outputs": [],
   "source": [
    "df_abstract.to_csv(\"abstract_table.csv\",index=False)\n",
    "df_authors.to_csv(\"author_table.csv\", index = False)\n",
    "df_mesh.to_csv(\"mesh_table.csv\", index = False)"
   ]
  },
  {
   "cell_type": "code",
   "execution_count": null,
   "metadata": {},
   "outputs": [],
   "source": []
  }
 ],
 "metadata": {
  "kernelspec": {
   "display_name": "Python 3",
   "language": "python",
   "name": "python3"
  },
  "language_info": {
   "codemirror_mode": {
    "name": "ipython",
    "version": 3
   },
   "file_extension": ".py",
   "mimetype": "text/x-python",
   "name": "python",
   "nbconvert_exporter": "python",
   "pygments_lexer": "ipython3",
   "version": "3.6.4"
  }
 },
 "nbformat": 4,
 "nbformat_minor": 2
}
